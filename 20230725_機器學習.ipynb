{
  "nbformat": 4,
  "nbformat_minor": 0,
  "metadata": {
    "colab": {
      "provenance": [],
      "authorship_tag": "ABX9TyNoMwtnAcvTg2T2AuiZkVOe",
      "include_colab_link": true
    },
    "kernelspec": {
      "name": "python3",
      "display_name": "Python 3"
    },
    "language_info": {
      "name": "python"
    }
  },
  "cells": [
    {
      "cell_type": "markdown",
      "metadata": {
        "id": "view-in-github",
        "colab_type": "text"
      },
      "source": [
        "<a href=\"https://colab.research.google.com/github/GaryChen1990/ximen0725/blob/main/20230725_%E6%A9%9F%E5%99%A8%E5%AD%B8%E7%BF%92.ipynb\" target=\"_parent\"><img src=\"https://colab.research.google.com/assets/colab-badge.svg\" alt=\"Open In Colab\"/></a>"
      ]
    },
    {
      "cell_type": "markdown",
      "source": [
        "##Markdown 語法\n",
        "###外加 Latex 語法 Demo\n",
        "\n",
        "$ Entropy = \\sum_{i=1}^{n} p_i \\log \\frac{1}{q_i} $"
      ],
      "metadata": {
        "id": "Bbfc_ELg3nIs"
      }
    }
  ]
}